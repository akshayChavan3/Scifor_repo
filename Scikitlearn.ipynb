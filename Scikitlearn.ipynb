{
  "nbformat": 4,
  "nbformat_minor": 0,
  "metadata": {
    "colab": {
      "provenance": []
    },
    "kernelspec": {
      "name": "python3",
      "display_name": "Python 3"
    },
    "language_info": {
      "name": "python"
    }
  },
  "cells": [
    {
      "cell_type": "code",
      "execution_count": null,
      "metadata": {
        "colab": {
          "base_uri": "https://localhost:8080/"
        },
        "id": "zRJ7bsVFrnr1",
        "outputId": "0c16a40c-d1e1-4163-bd69-e242c4e59c09"
      },
      "outputs": [
        {
          "output_type": "stream",
          "name": "stdout",
          "text": [
            "Requirement already satisfied: scikit-learn in /usr/local/lib/python3.10/dist-packages (1.2.2)\n",
            "Collecting scikit-learn\n",
            "  Downloading scikit_learn-1.4.1.post1-cp310-cp310-manylinux_2_17_x86_64.manylinux2014_x86_64.whl (12.1 MB)\n",
            "\u001b[2K     \u001b[90m━━━━━━━━━━━━━━━━━━━━━━━━━━━━━━━━━━━━━━━━\u001b[0m \u001b[32m12.1/12.1 MB\u001b[0m \u001b[31m48.9 MB/s\u001b[0m eta \u001b[36m0:00:00\u001b[0m\n",
            "\u001b[?25hRequirement already satisfied: numpy<2.0,>=1.19.5 in /usr/local/lib/python3.10/dist-packages (from scikit-learn) (1.25.2)\n",
            "Requirement already satisfied: scipy>=1.6.0 in /usr/local/lib/python3.10/dist-packages (from scikit-learn) (1.11.4)\n",
            "Requirement already satisfied: joblib>=1.2.0 in /usr/local/lib/python3.10/dist-packages (from scikit-learn) (1.3.2)\n",
            "Requirement already satisfied: threadpoolctl>=2.0.0 in /usr/local/lib/python3.10/dist-packages (from scikit-learn) (3.3.0)\n",
            "Installing collected packages: scikit-learn\n",
            "  Attempting uninstall: scikit-learn\n",
            "    Found existing installation: scikit-learn 1.2.2\n",
            "    Uninstalling scikit-learn-1.2.2:\n",
            "      Successfully uninstalled scikit-learn-1.2.2\n",
            "Successfully installed scikit-learn-1.4.1.post1\n"
          ]
        }
      ],
      "source": [
        "pip install -U scikit-learn"
      ]
    },
    {
      "cell_type": "code",
      "source": [
        "import pandas as pd"
      ],
      "metadata": {
        "id": "0HqIrAfEsSVx"
      },
      "execution_count": null,
      "outputs": []
    },
    {
      "cell_type": "code",
      "source": [
        "data = pd.read_csv(\"/content/iris.data.csv\")\n",
        "data"
      ],
      "metadata": {
        "id": "0XuZMi-zstUX"
      },
      "execution_count": null,
      "outputs": []
    },
    {
      "cell_type": "code",
      "source": [
        "# import packages\n",
        "import numpy as np\n",
        "import pandas as pd\n",
        "from sklearn.model_selection import train_test_split"
      ],
      "metadata": {
        "id": "GHmSKeldxAjB"
      },
      "execution_count": null,
      "outputs": []
    },
    {
      "cell_type": "code",
      "source": [
        "# importing data\n",
        "df = pd.read_csv('/content/DigitalAd_dataset.csv')\n",
        "print(df.shape)"
      ],
      "metadata": {
        "colab": {
          "base_uri": "https://localhost:8080/"
        },
        "id": "82WNxfnWxFvq",
        "outputId": "998689ad-3253-4a05-b127-433248606a86"
      },
      "execution_count": null,
      "outputs": [
        {
          "output_type": "stream",
          "name": "stdout",
          "text": [
            "(400, 3)\n"
          ]
        }
      ]
    },
    {
      "cell_type": "code",
      "source": [
        "X= df['Salary']\n",
        "y= df['Status']\n"
      ],
      "metadata": {
        "id": "c-ho7oly0EIn"
      },
      "execution_count": null,
      "outputs": []
    },
    {
      "cell_type": "code",
      "source": [
        "# using the train test split function\n",
        "X_train, X_test, y_train, y_test = train_test_split(\n",
        "X,y , random_state=401,test_size=0.50, shuffle=True)\n",
        "\n"
      ],
      "metadata": {
        "id": "Hl8aIlM40hMV"
      },
      "execution_count": null,
      "outputs": []
    },
    {
      "cell_type": "code",
      "source": [
        "# import packages\n",
        "import numpy as np\n",
        "import pandas as pd\n",
        "from sklearn.model_selection import train_test_split\n",
        "\n",
        "# importing data\n",
        "df = pd.read_csv('/content/DigitalAd_dataset.csv')\n",
        "print(df.shape)\n",
        "\n",
        "# head of the data\n",
        "print('Head of the dataframe : ')\n",
        "print(df.head())\n",
        "\n",
        "print(df.columns)\n",
        "\n",
        "X= df['Salary']\n",
        "y= df['Status']\n",
        "\n",
        "# using the train test split function\n",
        "X_train, X_test, y_train, y_test = train_test_split(\n",
        "X,y , random_state=401,test_size=0.50, shuffle=True)\n",
        "\n",
        "# printing out train and test sets\n",
        "\n",
        "print('X_train : ')\n",
        "print(X_train.head())\n",
        "print(X_train.shape)\n",
        "\n",
        "print('')\n",
        "print('X_test : ')\n",
        "print(X_test.head())\n",
        "print(X_test.shape)\n",
        "\n",
        "print('')\n",
        "print('y_train : ')\n",
        "print(y_train.head())\n",
        "print(y_train.shape)\n",
        "\n",
        "print('')\n",
        "print('y_test : ')\n",
        "print(y_test.head())\n",
        "print(y_test.shape)"
      ],
      "metadata": {
        "colab": {
          "base_uri": "https://localhost:8080/"
        },
        "id": "vnN5RyrW3LLN",
        "outputId": "7e1f2c06-2737-46fd-80e7-0c510fe5cd1b"
      },
      "execution_count": null,
      "outputs": [
        {
          "output_type": "stream",
          "name": "stdout",
          "text": [
            "(400, 3)\n",
            "Head of the dataframe : \n",
            "   Age  Salary  Status\n",
            "0   18   82000       0\n",
            "1   29   80000       0\n",
            "2   47   25000       1\n",
            "3   45   26000       1\n",
            "4   46   28000       1\n",
            "Index(['Age', 'Salary', 'Status'], dtype='object')\n",
            "X_train : \n",
            "141    15000\n",
            "348    50000\n",
            "96     71000\n",
            "179    70000\n",
            "198    42000\n",
            "Name: Salary, dtype: int64\n",
            "(200,)\n",
            "\n",
            "X_test : \n",
            "146    100000\n",
            "297     96000\n",
            "225    143000\n",
            "32      79000\n",
            "262     71000\n",
            "Name: Salary, dtype: int64\n",
            "(200,)\n",
            "\n",
            "y_train : \n",
            "141    0\n",
            "348    1\n",
            "96     0\n",
            "179    0\n",
            "198    0\n",
            "Name: Status, dtype: int64\n",
            "(200,)\n",
            "\n",
            "y_test : \n",
            "146    1\n",
            "297    1\n",
            "225    1\n",
            "32     0\n",
            "262    0\n",
            "Name: Status, dtype: int64\n",
            "(200,)\n"
          ]
        }
      ]
    },
    {
      "cell_type": "code",
      "source": [
        "# import packages\n",
        "import pandas as pd\n",
        "import numpy as np\n",
        "from sklearn.model_selection import train_test_split\n",
        "from sklearn.preprocessing import StandardScaler\n",
        "from sklearn.linear_model import LinearRegression\n",
        "from sklearn.metrics import mean_squared_error\n",
        "\n",
        "df = pd.read_csv('/content/DigitalAd_dataset.csv')\n",
        "# dropping rows which have null values\n",
        "df.dropna(inplace=True,axis=0)\n",
        "\n",
        "y = df['Salary']\n",
        "X = df.drop('Status',axis=1)\n",
        "\n",
        "# splitting the dataframe into train and test sets\n",
        "X_train,X_test,y_train,y_test = train_test_split(\n",
        "X,y,test_size=0.50,random_state=401)\n",
        "scaler = StandardScaler()\n",
        "scaler.fit(X_train)\n",
        "X_train = scaler.transform(X_train)\n",
        "X_test = scaler.transform(X_test)\n",
        "\n",
        "model = LinearRegression().fit(X_train,y_train)\n",
        "y_pred = model.predict(X_test)\n",
        "print(y_pred)\n",
        "print(mean_squared_error(y_test,y_pred))\n"
      ],
      "metadata": {
        "colab": {
          "base_uri": "https://localhost:8080/"
        },
        "id": "9mTo6LIp3541",
        "outputId": "4f661ab4-5b64-4629-f8af-9ee74e3b0c82"
      },
      "execution_count": null,
      "outputs": [
        {
          "output_type": "stream",
          "name": "stdout",
          "text": [
            "[100000.  96000. 143000.  79000.  71000.  39000.  72000. 131000.  59000.\n",
            " 142000. 137000.  23000.  87000.  84000.  87000. 119000.  63000.  43000.\n",
            "  79000.  71000.  21000.  88000. 108000. 113000.  26000. 134000.  90000.\n",
            "  52000.  25000. 107000. 144000.  80000.  75000.  33000. 143000. 117000.\n",
            "  83000.  96000.  79000.  63000.  74000.  86000. 108000.  35000.  32000.\n",
            " 108000. 130000.  57000.  26000. 116000.  16000. 106000. 126000.  22000.\n",
            " 144000.  55000.  93000. 146000.  80000.  79000.  76000.  75000.  64000.\n",
            "  88000.  19000.  45000.  57000.  47000.  32000.  31000.  57000.  23000.\n",
            "  80000.  70000.  39000.  89000.  15000.  45000. 117000.  89000.  75000.\n",
            "  55000.  88000.  23000.  72000.  65000.  55000.  75000.  95000.  34000.\n",
            "  82000. 112000.  63000.  58000.  28000.  31000.  30000.  59000.  54000.\n",
            " 112000. 133000.  69000.  84000.  15000. 129000. 149000.  16000.  54000.\n",
            "  80000.  61000.  44000.  52000.  82000.  80000.  34000.  74000.  18000.\n",
            "  61000. 120000.  17000. 104000.  33000.  88000. 133000. 149000.  43000.\n",
            " 118000.  73000.  57000.  23000.  41000.  28000.  68000.  80000.  55000.\n",
            "  65000.  54000.  33000.  80000. 141000.  74000.  18000. 123000.  18000.\n",
            "  75000.  70000.  77000.  55000.  97000.  54000.  51000. 104000.  79000.\n",
            "  72000. 148000.  19000.  72000.  71000.  28000.  32000.  83000.  22000.\n",
            "  74000.  61000.  96000.  82000.  42000.  75000.  86000.  61000.  66000.\n",
            "  32000.  82000.  74000. 134000.  60000.  72000.  60000.  20000.  75000.\n",
            "  30000.  57000. 125000.  33000.  30000.  43000.  20000.  51000. 138000.\n",
            "  71000.  87000.  82000.  83000.  74000.  99000.  61000.  96000.  44000.\n",
            "  68000.  44000.]\n",
            "5.532183936754649e-23\n"
          ]
        }
      ]
    }
  ]
}